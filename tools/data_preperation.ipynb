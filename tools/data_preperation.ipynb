{
 "cells": [
  {
   "cell_type": "code",
   "execution_count": 4,
   "id": "6ca36b2c",
   "metadata": {},
   "outputs": [],
   "source": [
    "from Bio import SeqIO\n",
    "from pathlib import Path\n",
    "import os"
   ]
  },
  {
   "cell_type": "code",
   "execution_count": null,
   "id": "aa6f9c3e",
   "metadata": {},
   "outputs": [],
   "source": [
    "# Sort out unknown proteins\n",
    "keywords = [\"hypothetical\", \"putative\", \"postulated\"]\n",
    "\n",
    "# Load data\n",
    "input_file = Path(\"../data/proteins/MZ501046.fasta\")\n",
    "output_known = Path(\"../data/proteins_known.fasta\")\n",
    "output_unknown = Path(\"../data/proteins_unknown.fasta\")\n",
    "output_known.mkdir(parents=True, exist_ok=True)\n",
    "output_unknown.mkdir(parents=True, exist_ok=True)"
   ]
  },
  {
   "cell_type": "code",
   "execution_count": 6,
   "id": "aef2973d",
   "metadata": {},
   "outputs": [
    {
     "name": "stdout",
     "output_type": "stream",
     "text": [
      "Saved 6369 protein entries to ../data/output.csv\n"
     ]
    }
   ],
   "source": [
    "# Create csv with id, sequence from folder containing seperate fastas\n",
    "import pandas as pd\n",
    "\n",
    "\n",
    "def fasta_to_df(path):\n",
    "    \"\"\"Parses either a folder of FASTA files, or a single FASTA file into a pandas dataframe.\"\"\"\n",
    "    data = []\n",
    "\n",
    "    # Determine if path is a file or folder\n",
    "    if os.path.isfile(path):\n",
    "        files = [path]\n",
    "    elif os.path.isdir(path):\n",
    "        files = [os.path.join(path, f) for f in os.listdir(path)]\n",
    "\n",
    "    for file in files:\n",
    "        for record in SeqIO.parse(file, \"fasta\"):\n",
    "            desc = record.description\n",
    "            prot_id = next(\n",
    "                (\n",
    "                    x.split(\"=\")[1][:-1]\n",
    "                    for x in desc.split()\n",
    "                    if x.startswith(\"[protein_id=\")\n",
    "                ),\n",
    "                None,\n",
    "            )\n",
    "            if prot_id:\n",
    "                data.append((prot_id, str(record.seq)))\n",
    "\n",
    "    return pd.DataFrame(data, columns=[\"id\", \"sequence\"])\n",
    "\n",
    "\n",
    "# Change input based on avaliable fastas (folder or single file)\n",
    "# folder_path = \"../data/proteins\"\n",
    "folder_path = \"../data/proteins_clustered/result_rep_seq.fasta\"\n",
    "output_csv = \"../data/output.csv\"\n",
    "df = fasta_to_df(folder_path)\n",
    "df.to_csv(output_csv, index=False)\n",
    "print(f\"Saved {len(df)} protein entries to {output_csv}\")"
   ]
  },
  {
   "cell_type": "code",
   "execution_count": 7,
   "id": "75a762e9",
   "metadata": {},
   "outputs": [
    {
     "ename": "FileNotFoundError",
     "evalue": "[Errno 2] No such file or directory: '../data/proteins_deduplicated/result_rep_seq.fasta'",
     "output_type": "error",
     "traceback": [
      "\u001b[31m---------------------------------------------------------------------------\u001b[39m",
      "\u001b[31mFileNotFoundError\u001b[39m                         Traceback (most recent call last)",
      "\u001b[36mCell\u001b[39m\u001b[36m \u001b[39m\u001b[32mIn[7]\u001b[39m\u001b[32m, line 7\u001b[39m\n\u001b[32m      2\u001b[39m \u001b[38;5;28;01mwith\u001b[39;00m (\n\u001b[32m      3\u001b[39m     \u001b[38;5;28mopen\u001b[39m(\u001b[33m\"\u001b[39m\u001b[33mproteins_known.fasta\u001b[39m\u001b[33m\"\u001b[39m, \u001b[33m\"\u001b[39m\u001b[33mw\u001b[39m\u001b[33m\"\u001b[39m) \u001b[38;5;28;01mas\u001b[39;00m known_file,\n\u001b[32m      4\u001b[39m     \u001b[38;5;28mopen\u001b[39m(\u001b[33m\"\u001b[39m\u001b[33mproteins_unknown.fasta\u001b[39m\u001b[33m\"\u001b[39m, \u001b[33m\"\u001b[39m\u001b[33mw\u001b[39m\u001b[33m\"\u001b[39m) \u001b[38;5;28;01mas\u001b[39;00m unknown_file,\n\u001b[32m      5\u001b[39m ):\n\u001b[32m      6\u001b[39m     k, uk = \u001b[32m0\u001b[39m, \u001b[32m0\u001b[39m\n\u001b[32m----> \u001b[39m\u001b[32m7\u001b[39m     record = \u001b[43mSeqIO\u001b[49m\u001b[43m.\u001b[49m\u001b[43mparse\u001b[49m\u001b[43m(\u001b[49m\u001b[43minput_file\u001b[49m\u001b[43m,\u001b[49m\u001b[43m \u001b[49m\u001b[33;43m\"\u001b[39;49m\u001b[33;43mfasta\u001b[39;49m\u001b[33;43m\"\u001b[39;49m\u001b[43m)\u001b[49m\n\u001b[32m      8\u001b[39m     \u001b[38;5;28;01mfor\u001b[39;00m entry \u001b[38;5;129;01min\u001b[39;00m record:\n\u001b[32m      9\u001b[39m         \u001b[38;5;28;01mif\u001b[39;00m \u001b[38;5;28many\u001b[39m(key \u001b[38;5;129;01min\u001b[39;00m entry.description \u001b[38;5;28;01mfor\u001b[39;00m key \u001b[38;5;129;01min\u001b[39;00m keywords):\n",
      "\u001b[36mFile \u001b[39m\u001b[32m~/miniconda3/envs/pha/lib/python3.13/site-packages/Bio/SeqIO/__init__.py:626\u001b[39m, in \u001b[36mparse\u001b[39m\u001b[34m(handle, format, alphabet)\u001b[39m\n\u001b[32m    624\u001b[39m iterator_generator = _FormatToIterator.get(\u001b[38;5;28mformat\u001b[39m)\n\u001b[32m    625\u001b[39m \u001b[38;5;28;01mif\u001b[39;00m iterator_generator:\n\u001b[32m--> \u001b[39m\u001b[32m626\u001b[39m     \u001b[38;5;28;01mreturn\u001b[39;00m \u001b[43miterator_generator\u001b[49m\u001b[43m(\u001b[49m\u001b[43mhandle\u001b[49m\u001b[43m)\u001b[49m\n\u001b[32m    627\u001b[39m \u001b[38;5;28;01mif\u001b[39;00m \u001b[38;5;28mformat\u001b[39m \u001b[38;5;129;01min\u001b[39;00m AlignIO._FormatToIterator:\n\u001b[32m    628\u001b[39m     \u001b[38;5;66;03m# Use Bio.AlignIO to read in the alignments\u001b[39;00m\n\u001b[32m    629\u001b[39m     \u001b[38;5;28;01mreturn\u001b[39;00m (r \u001b[38;5;28;01mfor\u001b[39;00m alignment \u001b[38;5;129;01min\u001b[39;00m AlignIO.parse(handle, \u001b[38;5;28mformat\u001b[39m) \u001b[38;5;28;01mfor\u001b[39;00m r \u001b[38;5;129;01min\u001b[39;00m alignment)\n",
      "\u001b[36mFile \u001b[39m\u001b[32m~/miniconda3/envs/pha/lib/python3.13/site-packages/Bio/SeqIO/FastaIO.py:196\u001b[39m, in \u001b[36mFastaIterator.__init__\u001b[39m\u001b[34m(self, source, alphabet)\u001b[39m\n\u001b[32m    194\u001b[39m \u001b[38;5;28;01mif\u001b[39;00m alphabet \u001b[38;5;129;01mis\u001b[39;00m \u001b[38;5;129;01mnot\u001b[39;00m \u001b[38;5;28;01mNone\u001b[39;00m:\n\u001b[32m    195\u001b[39m     \u001b[38;5;28;01mraise\u001b[39;00m \u001b[38;5;167;01mValueError\u001b[39;00m(\u001b[33m\"\u001b[39m\u001b[33mThe alphabet argument is no longer supported\u001b[39m\u001b[33m\"\u001b[39m)\n\u001b[32m--> \u001b[39m\u001b[32m196\u001b[39m \u001b[38;5;28;43msuper\u001b[39;49m\u001b[43m(\u001b[49m\u001b[43m)\u001b[49m\u001b[43m.\u001b[49m\u001b[34;43m__init__\u001b[39;49m\u001b[43m(\u001b[49m\u001b[43msource\u001b[49m\u001b[43m,\u001b[49m\u001b[43m \u001b[49m\u001b[43mfmt\u001b[49m\u001b[43m=\u001b[49m\u001b[33;43m\"\u001b[39;49m\u001b[33;43mFasta\u001b[39;49m\u001b[33;43m\"\u001b[39;49m\u001b[43m)\u001b[49m\n\u001b[32m    197\u001b[39m \u001b[38;5;28;01mtry\u001b[39;00m:\n\u001b[32m    198\u001b[39m     line = \u001b[38;5;28mnext\u001b[39m(\u001b[38;5;28mself\u001b[39m.stream)\n",
      "\u001b[36mFile \u001b[39m\u001b[32m~/miniconda3/envs/pha/lib/python3.13/site-packages/Bio/SeqIO/Interfaces.py:81\u001b[39m, in \u001b[36mSequenceIterator.__init__\u001b[39m\u001b[34m(self, source, alphabet, fmt)\u001b[39m\n\u001b[32m     79\u001b[39m \u001b[38;5;28;01mif\u001b[39;00m \u001b[38;5;28misinstance\u001b[39m(source, _PathLikeTypes):\n\u001b[32m     80\u001b[39m     mode = modes[\u001b[32m0\u001b[39m]\n\u001b[32m---> \u001b[39m\u001b[32m81\u001b[39m     \u001b[38;5;28mself\u001b[39m.stream = \u001b[38;5;28;43mopen\u001b[39;49m\u001b[43m(\u001b[49m\u001b[43msource\u001b[49m\u001b[43m,\u001b[49m\u001b[43m \u001b[49m\u001b[33;43m\"\u001b[39;49m\u001b[33;43mr\u001b[39;49m\u001b[33;43m\"\u001b[39;49m\u001b[43m \u001b[49m\u001b[43m+\u001b[49m\u001b[43m \u001b[49m\u001b[43mmode\u001b[49m\u001b[43m)\u001b[49m\n\u001b[32m     82\u001b[39m \u001b[38;5;28;01melse\u001b[39;00m:\n\u001b[32m     83\u001b[39m     value = source.read(\u001b[32m0\u001b[39m)\n",
      "\u001b[31mFileNotFoundError\u001b[39m: [Errno 2] No such file or directory: '../data/proteins_deduplicated/result_rep_seq.fasta'"
     ]
    }
   ],
   "source": [
    "# Split sequences into known and unknown, and save to seperate files\n",
    "with (\n",
    "    open(\"proteins_known.fasta\", \"w\") as known_file,\n",
    "    open(\"proteins_unknown.fasta\", \"w\") as unknown_file,\n",
    "):\n",
    "    k, uk = 0, 0\n",
    "    record = SeqIO.parse(input_file, \"fasta\")\n",
    "    for entry in record:\n",
    "        if any(key in entry.description for key in keywords):\n",
    "            SeqIO.write(entry, unknown_file, \"fasta\")\n",
    "            uk += 1\n",
    "        else:\n",
    "            SeqIO.write(entry, known_file, \"fasta\")\n",
    "            k += 1"
   ]
  },
  {
   "cell_type": "code",
   "execution_count": null,
   "id": "a4af2bbb",
   "metadata": {},
   "outputs": [],
   "source": [
    "# Format"
   ]
  }
 ],
 "metadata": {
  "kernelspec": {
   "display_name": "pha",
   "language": "python",
   "name": "python3"
  },
  "language_info": {
   "codemirror_mode": {
    "name": "ipython",
    "version": 3
   },
   "file_extension": ".py",
   "mimetype": "text/x-python",
   "name": "python",
   "nbconvert_exporter": "python",
   "pygments_lexer": "ipython3",
   "version": "3.13.2"
  }
 },
 "nbformat": 4,
 "nbformat_minor": 5
}
