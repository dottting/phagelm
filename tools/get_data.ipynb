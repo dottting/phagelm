{
 "cells": [
  {
   "cell_type": "code",
   "execution_count": null,
   "id": "1eb1f3fc",
   "metadata": {},
   "outputs": [],
   "source": [
    "from Bio import Entrez\n",
    "from Bio import SeqIO\n",
    "import pandas as pd\n",
    "import os\n",
    "\n",
    "# Set email\n",
    "Entrez.email = \"samu.mueller@student.uni-tuebingen.de\""
   ]
  },
  {
   "cell_type": "markdown",
   "id": "c095b599",
   "metadata": {},
   "source": [
    "# Example code"
   ]
  },
  {
   "cell_type": "code",
   "execution_count": null,
   "id": "e7a60297",
   "metadata": {},
   "outputs": [],
   "source": [
    "# Fetch all protein sequences for id, in fasta format\n",
    "# handle = Entrez.efetch(\n",
    "#     db=\"nucleotide\", id=\"MK797984.1\", rettype=\"fasta_cds_aa\", retmode=\"text\"\n",
    "# )\n",
    "# records = SeqIO.parse(handle, \"fasta\")\n",
    "\n",
    "# for record in records:\n",
    "#     print(record)"
   ]
  },
  {
   "cell_type": "markdown",
   "id": "93840505",
   "metadata": {},
   "source": [
    "# Apply to id list"
   ]
  },
  {
   "cell_type": "code",
   "execution_count": null,
   "id": "273fd42d",
   "metadata": {},
   "outputs": [],
   "source": [
    "# get ids from phage list\n",
    "phage_df = pd.read_csv(\n",
    "    \"../temp.csv\"  # csv with a column \"NCBI GenBank accession\"\n",
    ")\n",
    "outdir = \"../classification_model/data/temp\"\n",
    "os.mkdir(outdir)\n",
    "output_dir = outdir"
   ]
  },
  {
   "cell_type": "code",
   "execution_count": null,
   "id": "354bf6cc",
   "metadata": {},
   "outputs": [],
   "source": [
    "# Fetch phage proteins and save to output_dir\n",
    "for phage_id in phage_df[\"NCBI GenBank accession\"]:\n",
    "    print(f\"Fetching phage data with id: {phage_id}\")\n",
    "    handle = Entrez.efetch(\n",
    "        db=\"nucleotide\",\n",
    "        id=phage_id,\n",
    "        rettype=\"fasta_cds_aa\",\n",
    "        retmode=\"text\",\n",
    "    )\n",
    "    record = SeqIO.parse(handle, \"fasta\")\n",
    "    with open(f\"{output_dir}/{phage_id}.fasta\", \"w\") as outfile:\n",
    "        SeqIO.write(record, outfile, \"fasta\")\n"
   ]
  }
 ],
 "metadata": {
  "kernelspec": {
   "display_name": "pha",
   "language": "python",
   "name": "python3"
  },
  "language_info": {
   "codemirror_mode": {
    "name": "ipython",
    "version": 3
   },
   "file_extension": ".py",
   "mimetype": "text/x-python",
   "name": "python",
   "nbconvert_exporter": "python",
   "pygments_lexer": "ipython3",
   "version": "3.13.2"
  }
 },
 "nbformat": 4,
 "nbformat_minor": 5
}
